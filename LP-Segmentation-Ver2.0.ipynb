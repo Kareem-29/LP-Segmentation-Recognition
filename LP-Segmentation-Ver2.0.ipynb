{
 "cells": [
  {
   "cell_type": "code",
   "execution_count": 1,
   "id": "cc5623da",
   "metadata": {},
   "outputs": [],
   "source": [
    "import cv2\n",
    "import easyocr\n",
    "import os"
   ]
  },
  {
   "cell_type": "code",
   "execution_count": 82,
   "id": "f44bad0d",
   "metadata": {},
   "outputs": [
    {
     "name": "stdout",
     "output_type": "stream",
     "text": [
      "(233, 475, 3)\n"
     ]
    }
   ],
   "source": [
    "img=cv2.imread('lpr.jpeg')\n",
    "\n",
    "img = cv2.resize(img,(475,233), cv2.INTER_AREA)\n",
    "imgToDB= img\n",
    "\n",
    "# Prints Dimensions of the image\n",
    "print(img.shape)\n",
    "\n",
    "# Display the image\n",
    "cv2.imshow(\"original\", img)\n",
    "\n",
    "cv2.waitKey(0)\n",
    "\n",
    "cv2.destroyAllWindows()"
   ]
  },
  {
   "cell_type": "code",
   "execution_count": 83,
   "id": "35814b08",
   "metadata": {},
   "outputs": [
    {
     "name": "stdout",
     "output_type": "stream",
     "text": [
      "Full path: C:\\Users\\New\\img1.png\n",
      "Directory Path: C:\\Users\\New\n"
     ]
    }
   ],
   "source": [
    "gray = img\n",
    "gray = cv2.cvtColor(gray, cv2.COLOR_BGR2GRAY)\n",
    "gray = cv2.GaussianBlur(gray,(3,3), 0)\n",
    "\n",
    "ret, img = cv2.threshold(gray,80,255,cv2.THRESH_BINARY) #Orginal (gray,127,255,cv2.THRESH_BINARY)\n",
    "#(gray,63,....)for 9.jpeg\n",
    "img =  cv2.bitwise_not(img)\n",
    "\n",
    "ctr=0\n",
    "ctr += 1\n",
    "cv2.imwrite('img{}.png' .format(ctr), img)\n",
    "\n",
    "\n",
    "x='img'+str(ctr)+'.png'\n",
    "absolute_path = os.path.abspath(x)\n",
    "print(\"Full path: \" + absolute_path)\n",
    "print(\"Directory Path: \" + os.path.dirname(absolute_path))\n",
    "\n",
    "cv2.imshow('gray', img)\n",
    "cv2.waitKey(0)\n",
    "cv2.destroyAllWindows()"
   ]
  },
  {
   "cell_type": "code",
   "execution_count": 84,
   "id": "72a497da",
   "metadata": {},
   "outputs": [],
   "source": [
    "ar_num = img[10:110, 10:230] # 10:255 Slicing to crop the image\n",
    "# Display the cropped image\n",
    "cv2.imshow(\"cropped\", ar_num)\n",
    "cv2.imwrite('ar_num_img.png', ar_num)\n",
    "cv2.waitKey(0)\n",
    "cv2.destroyAllWindows()"
   ]
  },
  {
   "cell_type": "code",
   "execution_count": 85,
   "id": "8217b738",
   "metadata": {},
   "outputs": [],
   "source": [
    "ar_char = img[10:110, 260:420] # Slicing to crop the image\n",
    "# Display the cropped image\n",
    "cv2.imshow(\"cropped\", ar_char)\n",
    "cv2.imwrite('ar_char_img.png', ar_char)\n",
    "cv2.waitKey(0)\n",
    "cv2.destroyAllWindows()"
   ]
  },
  {
   "cell_type": "code",
   "execution_count": 86,
   "id": "499d1bf4",
   "metadata": {},
   "outputs": [],
   "source": [
    "eng_num = img[125:235, 10:235] # Slicing to crop the image\n",
    "# Display the cropped image\n",
    "cv2.imshow(\"cropped\", eng_num)\n",
    "cv2.imwrite('eng_num_img.png', eng_num)\n",
    "cv2.waitKey(0)\n",
    "cv2.destroyAllWindows()"
   ]
  },
  {
   "cell_type": "code",
   "execution_count": 87,
   "id": "4fedc397",
   "metadata": {},
   "outputs": [],
   "source": [
    "eng_char = img[125:235, 260:420] # Slicing to crop the image\n",
    "# Display the cropped image\n",
    "cv2.imshow(\"cropped\", eng_char)\n",
    "cv2.imwrite('eng_char_img.png', eng_char)\n",
    "cv2.waitKey(0)\n",
    "cv2.destroyAllWindows()"
   ]
  },
  {
   "cell_type": "code",
   "execution_count": 88,
   "id": "03a3bf51",
   "metadata": {},
   "outputs": [
    {
     "name": "stderr",
     "output_type": "stream",
     "text": [
      "CUDA not available - defaulting to CPU. Note: This module is much faster with a GPU.\n"
     ]
    },
    {
     "data": {
      "text/plain": [
       "['١٢١٧', 0.999269962310791]"
      ]
     },
     "execution_count": 88,
     "metadata": {},
     "output_type": "execute_result"
    }
   ],
   "source": [
    "reader = easyocr.Reader(['ar'])\n",
    "ArNum = reader.readtext(ar_num, allowlist=\"١٢٣٤٥٦٧٨٩٠\")\n",
    "ArNum = sorted(ArNum, key= lambda x:x[-1], reverse=True)[0]\n",
    "ArNum[-2:]"
   ]
  },
  {
   "cell_type": "code",
   "execution_count": 89,
   "id": "52a57766",
   "metadata": {},
   "outputs": [
    {
     "name": "stderr",
     "output_type": "stream",
     "text": [
      "CUDA not available - defaulting to CPU. Note: This module is much faster with a GPU.\n"
     ]
    },
    {
     "data": {
      "text/plain": [
       "['حنم', 0.906142083314143]"
      ]
     },
     "execution_count": 89,
     "metadata": {},
     "output_type": "execute_result"
    }
   ],
   "source": [
    "reader = easyocr.Reader(['ar'])\n",
    "ArChar = reader.readtext(ar_char, allowlist=\"ابحدرسصطعقكلمنهوى\")\n",
    "ArChar = sorted(ArChar, key= lambda x:x[-1], reverse=True)[0]\n",
    "ArChar[-2:]"
   ]
  },
  {
   "cell_type": "code",
   "execution_count": 90,
   "id": "1a963170",
   "metadata": {},
   "outputs": [
    {
     "name": "stderr",
     "output_type": "stream",
     "text": [
      "CUDA not available - defaulting to CPU. Note: This module is much faster with a GPU.\n"
     ]
    },
    {
     "data": {
      "text/plain": [
       "('1217', 0.9031643566737685)"
      ]
     },
     "execution_count": 90,
     "metadata": {},
     "output_type": "execute_result"
    }
   ],
   "source": [
    "reader = easyocr.Reader(['en'])\n",
    "EngNum = reader.readtext(eng_num, allowlist=\"0123456789\")\n",
    "EngNum = sorted(EngNum, key= lambda x:x[-1], reverse=True)[0]\n",
    "EngNum[-2:]"
   ]
  },
  {
   "cell_type": "code",
   "execution_count": 91,
   "id": "65e172ee",
   "metadata": {
    "scrolled": true
   },
   "outputs": [
    {
     "name": "stderr",
     "output_type": "stream",
     "text": [
      "CUDA not available - defaulting to CPU. Note: This module is much faster with a GPU.\n"
     ]
    },
    {
     "data": {
      "text/plain": [
       "('ZNJ', 0.9998419094653864)"
      ]
     },
     "execution_count": 91,
     "metadata": {},
     "output_type": "execute_result"
    }
   ],
   "source": [
    "reader = easyocr.Reader(['en'])\n",
    "EnChar = reader.readtext(eng_char, allowlist=\"ABCDRSXTEJGKLZNHUV\")\n",
    "EnChar = sorted(EnChar, key= lambda x:x[-1], reverse=True)[0]\n",
    "EnChar[-2:]"
   ]
  },
  {
   "cell_type": "code",
   "execution_count": 65,
   "id": "7bef812e",
   "metadata": {},
   "outputs": [],
   "source": []
  },
  {
   "cell_type": "code",
   "execution_count": 68,
   "id": "e31796db",
   "metadata": {},
   "outputs": [],
   "source": [
    "\n",
    "\n",
    "\n"
   ]
  },
  {
   "cell_type": "code",
   "execution_count": null,
   "id": "d1f88fe2",
   "metadata": {},
   "outputs": [],
   "source": []
  }
 ],
 "metadata": {
  "kernelspec": {
   "display_name": "Python 3",
   "language": "python",
   "name": "python3"
  },
  "language_info": {
   "codemirror_mode": {
    "name": "ipython",
    "version": 3
   },
   "file_extension": ".py",
   "mimetype": "text/x-python",
   "name": "python",
   "nbconvert_exporter": "python",
   "pygments_lexer": "ipython3",
   "version": "3.8.8"
  }
 },
 "nbformat": 4,
 "nbformat_minor": 5
}
